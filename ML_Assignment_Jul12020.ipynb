{
 "cells": [
  {
   "cell_type": "code",
   "execution_count": 24,
   "metadata": {},
   "outputs": [],
   "source": [
    "import numpy as np\n",
    "import matplotlib.pyplot as plt"
   ]
  },
  {
   "cell_type": "code",
   "execution_count": 3,
   "metadata": {},
   "outputs": [
    {
     "name": "stdout",
     "output_type": "stream",
     "text": [
      "P(A|B) = 0.339%\n"
     ]
    }
   ],
   "source": [
    "# A = counts(data == A)\n",
    "# B = counts(data == B)\n",
    "# # Class prior for A\n",
    "# pi_A     = A / (A + B)\n",
    "# # P(X|A):\n",
    "# p_X_a    = 0.7 <-- based on empirical knowledge.\n",
    "# muA      = mean(A)\n",
    "# sigmaA   = stdev(A)\n",
    "# p_X_a    = pdf(data==A, muA, sigmaA)\n",
    "# # P(A)\n",
    "# P_A      = (pi_A * p_X_a) / (pi_B * p_X_b)\n",
    "\n",
    "# calculate P(A|B) given P(A), P(B|A), P(B|not A)\n",
    "def bayes_theorem(p_a, p_b_given_a, p_b_given_not_a):\n",
    "\t# calculate P(not A)\n",
    "\tnot_a = 1 - p_a\n",
    "\t# calculate P(B)\n",
    "\tp_b = p_b_given_a * p_a + p_b_given_not_a * not_a\n",
    "\t# calculate P(A|B)\n",
    "\tp_a_given_b = (p_b_given_a * p_a) / p_b\n",
    "\treturn p_a_given_b\n",
    "\n",
    "# P(A)\n",
    "p_a = 0.0002\n",
    "# P(B|A)\n",
    "p_b_given_a = 0.85\n",
    "# P(B|not A)\n",
    "p_b_given_not_a = 0.05\n",
    "# calculate P(A|B)\n",
    "result = bayes_theorem(p_a, p_b_given_a, p_b_given_not_a)\n",
    "# summarize\n",
    "print('P(A|B) = %.3f%%' % (result * 100))"
   ]
  },
  {
   "cell_type": "code",
   "execution_count": 25,
   "metadata": {},
   "outputs": [],
   "source": [
    "# Mean Squared Error.\n",
    "def MSE(y_data, y_pred):\n",
    "    \"\"\"\n",
    "    Args:\n",
    "        y_data (array): Input measurements or raw data.\n",
    "        y_pred (array): Trained values.\n",
    "\n",
    "    Returns:\n",
    "        mse: Float, like a score that is useful for evaluating trained values\n",
    "    \"\"\"\n",
    "    # Check if the length of two arrays are the same.\n",
    "    assert len(y_data) is len(y_pred), \"The length of two arrays must be the same.\"\n",
    "    # Error recording.\n",
    "    err = []\n",
    "    for y1, y2 in zip(y_data, y_pred):\n",
    "        # Squared error.\n",
    "        err.append((y1-y2)**2)\n",
    "    \n",
    "    # Make average.\n",
    "    mse = sum(err)/len(err)\n",
    "    \n",
    "    return mse"
   ]
  },
  {
   "cell_type": "code",
   "execution_count": 26,
   "metadata": {},
   "outputs": [
    {
     "data": {
      "text/plain": [
       "5.857142857142857"
      ]
     },
     "execution_count": 26,
     "metadata": {},
     "output_type": "execute_result"
    }
   ],
   "source": [
    "# Test for function \"MSE\".\n",
    "# Artifical data.\n",
    "y_data = [1,4,2,3,6,1,3]\n",
    "y_pred = [2,3,4,6,3,5,2]\n",
    "# Result.\n",
    "MSE(y_data, y_pred)"
   ]
  },
  {
   "cell_type": "code",
   "execution_count": 27,
   "metadata": {},
   "outputs": [],
   "source": [
    "# Gradient descent\n",
    "def GD(x_data, y_data, alpha, beta_init, steps):\n",
    "    \"\"\"\n",
    "    Args:\n",
    "        x_data (array): Statistical weights for individual data.\n",
    "        y_data (array): Input measurements or raw data.\n",
    "        y_pred (array): Trained values.\n",
    "        alpha (float, 0~1): Learning rate.\n",
    "        beta_init (float): Initial value. (learning curve)\n",
    "        \n",
    "    Returns:\n",
    "        beta: Float, learning outputs.\n",
    "    \"\"\"\n",
    "    \n",
    "    records = [beta_init]\n",
    "    beta = beta_init\n",
    "    for step in range(steps):\n",
    "        dB = []\n",
    "        for xd, yp, yd in zip(x_data, y_pred, y_data):\n",
    "            dB.append(xd*(yp-yd))\n",
    "        dB_grad = sum(dB)/len(dB)\n",
    "        beta = beta - alpha*dB_grad\n",
    "        records.append(beta)\n",
    "    \n",
    "    fig = plt.figure(figsize=(8,5))\n",
    "    ax = fig.add_subplot(111)\n",
    "    ax.plot(records)\n",
    "    \n",
    "    return beta"
   ]
  },
  {
   "cell_type": "code",
   "execution_count": 28,
   "metadata": {},
   "outputs": [
    {
     "data": {
      "image/png": "[encoded data removed]",
      "text/plain": [
       "<Figure size 576x360 with 1 Axes>"
      ]
     },
     "metadata": {
      "needs_background": "light"
     },
     "output_type": "display_data"
    }
   ],
   "source": [
    "# Set the learning rate to be a small number\n",
    "alpha    = 0.05\n",
    "# Initial value for beta.\n",
    "beta_init = 5\n",
    "# Steps for finding minimum beta.\n",
    "steps = 1000\n",
    "# Artifical data.\n",
    "x_data = [1,1,1,1,1,1,1]\n",
    "y_data = [1,4,2,3,6,1,3]\n",
    "y_pred = [2,3,4,6,3,5,2]\n",
    "# Update beta based on dB\n",
    "beta = GD(x_data, y_data, alpha, beta_init, steps)"
   ]
  },
  {
   "cell_type": "code",
   "execution_count": 8,
   "metadata": {},
   "outputs": [],
   "source": [
    "# trainTestSplit\n",
    "# Assume X and Y have same number of samples in the row space\n",
    "# X        = predictors\n",
    "# Y        = response\n",
    "def trainTestSplit(X, Y, subset_size=0.8, seed=20):\n",
    "    # Pick different seed.\n",
    "    np.random.seed(seed)\n",
    "    # Get vector of indicies\n",
    "    idx = np.arange(X.shape[0])\n",
    "    # Randomly sample a subset of the indices. I will do 80% of the data.\n",
    "    np.random.shuffle(idx)\n",
    "    trainIdx = idx[:int(len(idx)*subset_size)]\n",
    "    testIdx = idx[int(len(idx)*subset_size):]\n",
    "    # Using these shuffled indicies, get the dataset.\n",
    "    Xtrain = X[trainIdx, :]\n",
    "    Ytrain = Y[trainIdx, :]\n",
    "    Xtest = X[testIdx, :]\n",
    "    Ytest = Y[testIdx, :]\n",
    "    \n",
    "    return Xtrain, Ytrain, Xtest, Ytest"
   ]
  },
  {
   "cell_type": "code",
   "execution_count": 40,
   "metadata": {},
   "outputs": [
    {
     "name": "stdout",
     "output_type": "stream",
     "text": [
      "Shape of Xtrain: (8, 5)\n",
      "Shape of Ytrain: (8, 5)\n",
      "Shape of Xtest: (2, 5)\n",
      "Shape of Ytest: (2, 5)\n"
     ]
    }
   ],
   "source": [
    "X = np.random.rand(10,5)\n",
    "Y = np.random.rand(10,5)\n",
    "res = trainTestSplit(X, Y, subset_size=0.8)\n",
    "print('Shape of Xtrain:', res[0].shape)\n",
    "print('Shape of Ytrain:', res[1].shape)\n",
    "print('Shape of Xtest:', res[2].shape)\n",
    "print('Shape of Ytest:', res[3].shape)"
   ]
  },
  {
   "cell_type": "code",
   "execution_count": 78,
   "metadata": {},
   "outputs": [
    {
     "name": "stdout",
     "output_type": "stream",
     "text": [
      "Shape of Xtrain: (80, 1)\n",
      "Shape of Ytrain: (80, 1)\n",
      "Shape of Xtest: (20, 1)\n",
      "Shape of Ytest: (20, 1)\n",
      "[[0.48813829]\n",
      " [0.04043658]\n",
      " [0.45801559]\n",
      " [0.77029612]\n",
      " [0.0643029 ]\n",
      " [0.58021231]\n",
      " [0.41576524]\n",
      " [0.39876695]\n",
      " [0.86454003]\n",
      " [0.29691737]\n",
      " [0.95179973]\n",
      " [0.37285849]\n",
      " [0.36049898]\n",
      " [0.09176062]\n",
      " [0.72826243]\n",
      " [0.7660708 ]\n",
      " [0.80916604]\n",
      " [0.85936647]\n",
      " [0.39617927]\n",
      " [0.05818163]\n",
      " [0.77708982]\n",
      " [0.01569231]\n",
      " [0.05612647]\n",
      " [0.15490276]\n",
      " [0.28574088]\n",
      " [0.01812208]\n",
      " [0.37157946]\n",
      " [0.20129212]\n",
      " [0.92061353]\n",
      " [0.27321676]\n",
      " [0.51164521]\n",
      " [0.14087503]\n",
      " [0.3846409 ]\n",
      " [0.59462182]\n",
      " [0.70989809]\n",
      " [0.96979468]\n",
      " [0.55747551]\n",
      " [0.57145969]\n",
      " [0.17555896]\n",
      " [0.77225002]\n",
      " [0.35541874]\n",
      " [0.93406095]\n",
      " [0.17101624]\n",
      " [0.38116616]\n",
      " [0.3509808 ]\n",
      " [0.67642333]\n",
      " [0.04254994]\n",
      " [0.97918009]\n",
      " [0.14535345]\n",
      " [0.48350483]\n",
      " [0.77424447]\n",
      " [0.72383862]\n",
      " [0.73180801]\n",
      " [0.30070491]\n",
      " [0.24252488]\n",
      " [0.63272596]\n",
      " [0.51267517]\n",
      " [0.75129905]\n",
      " [0.19771807]\n",
      " [0.88050791]\n",
      " [0.62333556]\n",
      " [0.7230822 ]\n",
      " [0.34791116]\n",
      " [0.18256376]\n",
      " [0.5982754 ]\n",
      " [0.74334899]\n",
      " [0.74596983]\n",
      " [0.37528246]\n",
      " [0.12648672]\n",
      " [0.69739868]\n",
      " [0.24793326]\n",
      " [0.85960727]\n",
      " [0.3241064 ]\n",
      " [0.15978268]\n",
      " [0.03087951]\n",
      " [0.94461636]\n",
      " [0.21830369]\n",
      " [0.50167609]\n",
      " [0.18028102]\n",
      " [0.61373114]\n",
      " [0.65758042]\n",
      " [0.85824986]\n",
      " [0.40763095]\n",
      " [0.14885955]\n",
      " [0.36365416]\n",
      " [0.50808035]\n",
      " [0.77605814]\n",
      " [0.16983728]\n",
      " [0.44984849]\n",
      " [0.6125494 ]\n",
      " [0.75389534]\n",
      " [0.41097094]\n",
      " [0.27377924]\n",
      " [0.74384367]\n",
      " [0.63112147]\n",
      " [0.92387543]\n",
      " [0.75006332]\n",
      " [0.33318345]\n",
      " [0.47717573]\n",
      " [0.56134631]]\n"
     ]
    }
   ],
   "source": [
    "X = np.random.rand(100,1)\n",
    "Y = np.random.rand(100,1)\n",
    "res = trainTestSplit(X, Y, subset_size=0.8)\n",
    "print('Shape of Xtrain:', res[0].shape)\n",
    "print('Shape of Ytrain:', res[1].shape)\n",
    "print('Shape of Xtest:', res[2].shape)\n",
    "print('Shape of Ytest:', res[3].shape)\n",
    "print(X)"
   ]
  },
  {
   "cell_type": "code",
   "execution_count": 76,
   "metadata": {},
   "outputs": [],
   "source": [
    "# Linear regression.\n",
    "class LinearRegression:\n",
    "    \n",
    "    def __init__(self, X, Y, subset_size=0.8, alpha=0.05, epochs=500):\n",
    "        # Initialize data\n",
    "        self.beta = np.random.rand()\n",
    "        self.intercept = np.random.rand()\n",
    "        self.alpha = alpha\n",
    "        self.epochs = epochs\n",
    "        self.mse = np.zeros(epochs)\n",
    "        self._dataset = self.trainTestSplit(X, Y, subset_size)\n",
    "    \n",
    "    @property\n",
    "    def dataset(self):\n",
    "        return self._dataset\n",
    "        \n",
    "    def trainTestSplit(self, X, Y, subset_size):\n",
    "        # Get vector of indicies\n",
    "        idx = np.arange(X.shape[0])\n",
    "        # Randomly sample a subset of the indices. I will do 80% of the data.\n",
    "        np.random.shuffle(idx)\n",
    "        trainIdx = idx[:int(len(idx)*subset_size)]\n",
    "        testIdx = idx[int(len(idx)*subset_size):]\n",
    "        # Using these shuffled indicies, get the dataset.\n",
    "        Xtrain = X[trainIdx, :]\n",
    "        Ytrain = Y[trainIdx, :]\n",
    "        Xtest = X[testIdx, :]\n",
    "        Ytest = Y[testIdx, :]\n",
    "        # Updata dataset in class property.\n",
    "        return {'Xtrain':Xtrain, 'Ytrain':Ytrain, 'Xtest':Xtest, 'Ytest':Ytest}\n",
    "\n",
    "    def RegressionLearning(self):\n",
    "        \n",
    "        # Linear regression function\n",
    "        def lm(X, beta, intercept):\n",
    "            yhat = X * beta + intercept\n",
    "            return yhat\n",
    "        \n",
    "        # Learning with regression\n",
    "        for i in range(self.epochs):\n",
    "            ypred= lm(self.dataset['Xtrain'], self.beta, self.intercept)\n",
    "            dB1 = np.mean([(y1-y2) for y1, y2 in zip(ypred, self.dataset['Ytrain'])])\n",
    "            dB2 = np.mean([xi*(y1-y2) for y1, y2, xi in zip(ypred, self.dataset['Ytrain'], self.dataset['Xtrain'])])\n",
    "            self.mse[i] = 0.5*np.sum([(y1-y2)**2 for y1, y2 in zip(ypred, self.dataset['Ytrain'])])\n",
    "            # Update...\n",
    "            self.beta = self.beta - self.alpha*dB2\n",
    "            self.intercept = self.intercept - self.alpha*dB1\n",
    "        print('self.mse', self.mse)\n",
    "        plt.plot(self.mse)\n",
    "        plt.show()\n",
    "\n",
    "    def Prediction(self):\n",
    "        # Predict using model\n",
    "        final_ypred = self.dataset['Xtest'] * self.beta + self.intercept\n",
    "        # Evaluate model\n",
    "        r = np.corrcoef(final_ypred, self.dataset['Ytest'])\n",
    "        plt.plot(final_ypred)\n",
    "        plt.plot(self.dataset['Ytest'])\n",
    "        plt.show()\n",
    "        r2 = r**2\n",
    "        mse = 0.5*np.sum([(y1-y2)**2 for y1, y2 in zip(final_ypred, self.dataset['Ytest'])])\n",
    "        return {\"r-value\":r, \"r2-value\":r2, \"MSE\":mse}"
   ]
  },
  {
   "cell_type": "code",
   "execution_count": 77,
   "metadata": {},
   "outputs": [
    {
     "name": "stdout",
     "output_type": "stream",
     "text": [
      "self.mse [4.89147365 4.83781709 4.78983588 4.74684319 4.70823587 4.67348421\n",
      " 4.64212303 4.61374377 4.58798764 4.56453954 4.54312271 4.52349411\n",
      " 4.50544028 4.48877373 4.4733298  4.45896387 4.4455489  4.43297331\n",
      " 4.4211391  4.40996018 4.39936093 4.38927492 4.37964377 4.37041622\n",
      " 4.36154722 4.35299719 4.34473133 4.33671909 4.32893361 4.32135125\n",
      " 4.31395128 4.30671543 4.29962766 4.29267386 4.2858416  4.27911997\n",
      " 4.27249936 4.26597128 4.25952831 4.25316386 4.24687216 4.2406481\n",
      " 4.23448718 4.22838543 4.22233934 4.21634582 4.21040212 4.20450581\n",
      " 4.19865474 4.192847   4.1870809  4.18135493 4.17566775 4.17001815\n",
      " 4.16440507 4.15882754 4.15328471 4.14777579 4.1423001  4.13685699\n",
      " 4.13144589 4.12606629 4.1207177  4.11539969 4.11011185 4.10485383\n",
      " 4.09962527 4.09442585 4.08925529 4.08411329 4.07899961 4.07391399\n",
      " 4.06885619 4.063826   4.0588232  4.05384759 4.04889897 4.04397716\n",
      " 4.03908197 4.03421323 4.02937076 4.0245544  4.01976399 4.01499937\n",
      " 4.01026037 4.00554686 4.00085867 3.99619567 3.9915577  3.98694462\n",
      " 3.9823563  3.97779258 3.97325334 3.96873844 3.96424774 3.9597811\n",
      " 3.95533841 3.95091951 3.9465243  3.94215262 3.93780436 3.9334794\n",
      " 3.92917759 3.92489882 3.92064297 3.9164099  3.9121995  3.90801165\n",
      " 3.90384621 3.89970308 3.89558213 3.89148324 3.8874063  3.88335118\n",
      " 3.87931777 3.87530595 3.87131561 3.86734663 3.8633989  3.8594723\n",
      " 3.85556672 3.85168204 3.84781816 3.84397497 3.84015234 3.83635018\n",
      " 3.83256837 3.82880681 3.82506538 3.82134398 3.8176425  3.81396083\n",
      " 3.81029887 3.80665651 3.80303365 3.79943018 3.795846   3.792281\n",
      " 3.78873509 3.78520816 3.7817001  3.77821083 3.77474023 3.77128821\n",
      " 3.76785467 3.76443951 3.76104262 3.75766392 3.75430331 3.75096069\n",
      " 3.74763595 3.74432902 3.74103978 3.73776815 3.73451404 3.73127734\n",
      " 3.72805797 3.72485583 3.72167083 3.71850288 3.71535189 3.71221776\n",
      " 3.70910041 3.70599975 3.70291568 3.69984812 3.69679698 3.69376218\n",
      " 3.69074362 3.68774121 3.68475488 3.68178453 3.67883008 3.67589145\n",
      " 3.67296855 3.67006129 3.6671696  3.66429338 3.66143256 3.65858705\n",
      " 3.65575677 3.65294165 3.65014159 3.64735652 3.64458636 3.64183103\n",
      " 3.63909044 3.63636453 3.6336532  3.63095639 3.62827402 3.625606\n",
      " 3.62295226 3.62031273 3.61768733 3.61507598 3.61247861 3.60989514\n",
      " 3.6073255  3.60476962 3.60222742 3.59969882 3.59718376 3.59468216\n",
      " 3.59219396 3.58971907 3.58725743 3.58480896 3.58237361 3.57995128\n",
      " 3.57754193 3.57514547 3.57276184 3.57039097 3.56803278 3.56568723\n",
      " 3.56335422 3.56103371 3.55872561 3.55642987 3.55414642 3.5518752\n",
      " 3.54961613 3.54736915 3.5451342  3.54291121 3.54070012 3.53850087\n",
      " 3.53631339 3.53413762 3.53197349 3.52982095 3.52767993 3.52555037\n",
      " 3.52343222 3.52132539 3.51922985 3.51714552 3.51507235 3.51301028\n",
      " 3.51095925 3.50891919 3.50689005 3.50487178 3.50286431 3.50086758\n",
      " 3.49888155 3.49690614 3.49494131 3.49298699 3.49104314 3.48910969\n",
      " 3.48718659 3.48527378 3.48337121 3.48147883 3.47959658 3.4777244\n",
      " 3.47586224 3.47401005 3.47216778 3.47033537 3.46851276 3.46669991\n",
      " 3.46489677 3.46310327 3.46131938 3.45954504 3.45778019 3.45602479\n",
      " 3.45427879 3.45254213 3.45081477 3.44909665 3.44738773 3.44568796\n",
      " 3.44399729 3.44231567 3.44064304 3.43897938 3.43732461 3.43567871\n",
      " 3.43404161 3.43241328 3.43079366 3.42918272 3.42758039 3.42598665\n",
      " 3.42440143 3.4228247  3.42125641 3.41969651 3.41814497 3.41660173\n",
      " 3.41506675 3.41353998 3.41202139 3.41051093 3.40900855 3.40751422\n",
      " 3.40602788 3.4045495  3.40307903 3.40161644 3.40016167 3.39871469\n",
      " 3.39727545 3.39584392 3.39442005 3.39300381 3.39159514 3.39019402\n",
      " 3.38880039 3.38741423 3.38603548 3.38466411 3.38330009 3.38194337\n",
      " 3.3805939  3.37925167 3.37791661 3.37658871 3.37526791 3.37395418\n",
      " 3.37264748 3.37134778 3.37005503 3.36876921 3.36749026 3.36621817\n",
      " 3.36495288 3.36369436 3.36244259 3.36119751 3.3599591  3.35872731\n",
      " 3.35750212 3.35628349 3.35507138 3.35386576 3.35266659 3.35147384\n",
      " 3.35028748 3.34910746 3.34793376 3.34676635 3.34560518 3.34445023\n",
      " 3.34330146 3.34215884 3.34102234 3.33989192 3.33876755 3.3376492\n",
      " 3.33653684 3.33543043 3.33432994 3.33323534 3.3321466  3.33106369\n",
      " 3.32998658 3.32891523 3.32784962 3.32678971 3.32573548 3.32468688\n",
      " 3.3236439  3.32260651 3.32157466 3.32054834 3.31952752 3.31851215\n",
      " 3.31750223 3.3164977  3.31549856 3.31450476 3.31351629 3.3125331\n",
      " 3.31155518 3.31058249 3.30961501 3.3086527  3.30769555 3.30674352\n",
      " 3.30579659 3.30485473 3.3039179  3.3029861  3.30205928 3.30113742\n",
      " 3.30022049 3.29930848 3.29840134 3.29749906 3.29660162 3.29570897\n",
      " 3.2948211  3.29393799 3.2930596  3.29218592 3.29131691 3.29045255\n",
      " 3.28959282 3.28873769 3.28788714 3.28704114 3.28619967 3.28536271\n",
      " 3.28453022 3.28370219 3.28287859 3.2820594  3.2812446  3.28043416\n",
      " 3.27962805 3.27882626 3.27802877 3.27723554 3.27644656 3.2756618\n",
      " 3.27488124 3.27410486 3.27333263 3.27256454 3.27180056 3.27104067\n",
      " 3.27028485 3.26953307 3.26878532 3.26804157 3.2673018  3.26656599\n",
      " 3.26583412 3.26510617 3.26438211 3.26366193 3.2629456  3.26223311\n",
      " 3.26152443 3.26081955 3.26011844 3.25942108 3.25872745 3.25803754\n",
      " 3.25735132 3.25666877 3.25598988 3.25531462 3.25464298 3.25397493\n",
      " 3.25331045 3.25264954 3.25199216 3.2513383  3.25068794 3.25004106\n",
      " 3.24939764 3.24875767 3.24812112 3.24748798 3.24685823 3.24623185\n",
      " 3.24560883 3.24498914 3.24437276 3.24375969 3.24314989 3.24254336\n",
      " 3.24194008 3.24134003 3.24074319 3.24014954 3.23955907 3.23897176\n",
      " 3.2383876  3.23780656 3.23722863 3.2366538  3.23608204 3.23551334\n",
      " 3.23494769 3.23438507 3.23382545 3.23326883 3.2327152  3.23216452\n",
      " 3.23161679 3.231072   3.23053012 3.22999114 3.22945505 3.22892182\n",
      " 3.22839145 3.22786392 3.22733922 3.22681732 3.22629821 3.22578189\n",
      " 3.22526833 3.22475751]\n"
     ]
    },
    {
     "data": {
      "image/png": "[encoded data removed]",
      "text/plain": [
       "<Figure size 432x288 with 1 Axes>"
      ]
     },
     "metadata": {
      "needs_background": "light"
     },
     "output_type": "display_data"
    },
    {
     "name": "stderr",
     "output_type": "stream",
     "text": [
      "C:\\Users\\lynch\\Anaconda3\\envs\\ENV\\lib\\site-packages\\numpy\\lib\\function_base.py:2526: RuntimeWarning: Degrees of freedom <= 0 for slice\n",
      "  c = cov(x, y, rowvar)\n",
      "C:\\Users\\lynch\\Anaconda3\\envs\\ENV\\lib\\site-packages\\numpy\\lib\\function_base.py:2455: RuntimeWarning: divide by zero encountered in true_divide\n",
      "  c *= np.true_divide(1, fact)\n",
      "C:\\Users\\lynch\\Anaconda3\\envs\\ENV\\lib\\site-packages\\numpy\\lib\\function_base.py:2455: RuntimeWarning: invalid value encountered in multiply\n",
      "  c *= np.true_divide(1, fact)\n"
     ]
    },
    {
     "data": {
      "image/png": "[encoded data removed]",
      "text/plain": [
       "<Figure size 432x288 with 1 Axes>"
      ]
     },
     "metadata": {
      "needs_background": "light"
     },
     "output_type": "display_data"
    }
   ],
   "source": [
    "L = LinearRegression(X, Y, subset_size=0.8)\n",
    "L.RegressionLearning()\n",
    "res = L.Prediction()"
   ]
  },
  {
   "cell_type": "code",
   "execution_count": 66,
   "metadata": {},
   "outputs": [
    {
     "data": {
      "text/plain": [
       "array([[nan, nan, nan, ..., nan, nan, nan],\n",
       "       [nan, nan, nan, ..., nan, nan, nan],\n",
       "       [nan, nan, nan, ..., nan, nan, nan],\n",
       "       ...,\n",
       "       [nan, nan, nan, ..., nan, nan, nan],\n",
       "       [nan, nan, nan, ..., nan, nan, nan],\n",
       "       [nan, nan, nan, ..., nan, nan, nan]])"
      ]
     },
     "execution_count": 66,
     "metadata": {},
     "output_type": "execute_result"
    }
   ],
   "source": [
    "res['r-value']"
   ]
  },
  {
   "cell_type": "code",
   "execution_count": null,
   "metadata": {},
   "outputs": [],
   "source": []
  }
 ],
 "metadata": {
  "kernelspec": {
   "display_name": "Python 3",
   "language": "python",
   "name": "python3"
  },
  "language_info": {
   "codemirror_mode": {
    "name": "ipython",
    "version": 3
   },
   "file_extension": ".py",
   "mimetype": "text/x-python",
   "name": "python",
   "nbconvert_exporter": "python",
   "pygments_lexer": "ipython3",
   "version": "3.8.3"
  }
 },
 "nbformat": 4,
 "nbformat_minor": 4
}
