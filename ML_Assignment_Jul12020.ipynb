{
 "cells": [
  {
   "cell_type": "code",
   "execution_count": 21,
   "metadata": {},
   "outputs": [],
   "source": [
    "import numpy as np\n",
    "import matplotlib.pyplot as plt"
   ]
  },
  {
   "cell_type": "code",
   "execution_count": 22,
   "metadata": {},
   "outputs": [
    {
     "name": "stdout",
     "output_type": "stream",
     "text": [
      "P(A|B) = 0.339%\n"
     ]
    }
   ],
   "source": [
    "# A = counts(data == A)\n",
    "# B = counts(data == B)\n",
    "# # Class prior for A\n",
    "# pi_A     = A / (A + B)\n",
    "# # P(X|A):\n",
    "# p_X_a    = 0.7 <-- based on empirical knowledge.\n",
    "# muA      = mean(A)\n",
    "# sigmaA   = stdev(A)\n",
    "# p_X_a    = pdf(data==A, muA, sigmaA)\n",
    "# # P(A)\n",
    "# P_A      = (pi_A * p_X_a) / (pi_B * p_X_b)\n",
    "\n",
    "# calculate P(A|B) given P(A), P(B|A), P(B|not A)\n",
    "def bayes_theorem(p_a, p_b_given_a, p_b_given_not_a):\n",
    "\t# calculate P(not A)\n",
    "\tnot_a = 1 - p_a\n",
    "\t# calculate P(B)\n",
    "\tp_b = p_b_given_a * p_a + p_b_given_not_a * not_a\n",
    "\t# calculate P(A|B)\n",
    "\tp_a_given_b = (p_b_given_a * p_a) / p_b\n",
    "\treturn p_a_given_b\n",
    "\n",
    "# P(A)\n",
    "p_a = 0.0002\n",
    "# P(B|A)\n",
    "p_b_given_a = 0.85\n",
    "# P(B|not A)\n",
    "p_b_given_not_a = 0.05\n",
    "# calculate P(A|B)\n",
    "result = bayes_theorem(p_a, p_b_given_a, p_b_given_not_a)\n",
    "# summarize\n",
    "print('P(A|B) = %.3f%%' % (result * 100))"
   ]
  },
  {
   "cell_type": "code",
   "execution_count": 23,
   "metadata": {},
   "outputs": [],
   "source": [
    "# Mean Squared Error.\n",
    "def MSE(y_data, y_pred):\n",
    "    \"\"\"\n",
    "    Args:\n",
    "        y_data (array): Input measurements or raw data.\n",
    "        y_pred (array): Trained values.\n",
    "\n",
    "    Returns:\n",
    "        mse: Float, like a score that is useful for evaluating trained values\n",
    "    \"\"\"\n",
    "    # Check if the length of two arrays are the same.\n",
    "    assert len(y_data) is len(y_pred), \"The length of two arrays must be the same.\"\n",
    "    # Error recording.\n",
    "    err = []\n",
    "    for y1, y2 in zip(y_data, y_pred):\n",
    "        # Squared error.\n",
    "        err.append((y1-y2)**2)\n",
    "    \n",
    "    # Make average.\n",
    "    mse = sum(err)/len(err)\n",
    "    \n",
    "    return mse"
   ]
  },
  {
   "cell_type": "code",
   "execution_count": 24,
   "metadata": {},
   "outputs": [
    {
     "data": {
      "text/plain": [
       "5.857142857142857"
      ]
     },
     "execution_count": 24,
     "metadata": {},
     "output_type": "execute_result"
    }
   ],
   "source": [
    "# Test for function \"MSE\".\n",
    "# Artifical data.\n",
    "y_data = [1,4,2,3,6,1,3]\n",
    "y_pred = [2,3,4,6,3,5,2]\n",
    "# Result.\n",
    "MSE(y_data, y_pred)"
   ]
  },
  {
   "cell_type": "code",
   "execution_count": 44,
   "metadata": {},
   "outputs": [],
   "source": [
    "# Gradient descent\n",
    "def GD(x_data, y_data, alpha, beta_init, steps):\n",
    "    \"\"\"\n",
    "    Args:\n",
    "        x_data (array): Statistical weights for individual data.\n",
    "        y_data (array): Input measurements or raw data.\n",
    "        y_pred (array): Trained values.\n",
    "        alpha (float, 0~1): Learning rate.\n",
    "        beta_init (float): Initial value. (learning curve)\n",
    "        \n",
    "    Returns:\n",
    "        beta: Float, learning outputs.\n",
    "    \"\"\"\n",
    "    \n",
    "    records = [beta_init]\n",
    "    beta = beta_init\n",
    "    for step in range(steps):\n",
    "        dB = []\n",
    "        for xd, yp, yd in zip(x_data, y_pred, y_data):\n",
    "            dB.append(xd*(yp-yd))\n",
    "        dB_grad = sum(dB)/len(dB)\n",
    "        beta = beta - alpha*dB_grad\n",
    "        records.append(beta)\n",
    "    \n",
    "    fig = plt.figure(figsize=(8,5))\n",
    "    ax = fig.add_subplot(111)\n",
    "    ax.plot(records)\n",
    "    \n",
    "    return beta"
   ]
  },
  {
   "cell_type": "code",
   "execution_count": 45,
   "metadata": {},
   "outputs": [
    {
     "data": {
      "image/png": "[encoded data removed]",
      "text/plain": [
       "<Figure size 576x360 with 1 Axes>"
      ]
     },
     "metadata": {
      "needs_background": "light"
     },
     "output_type": "display_data"
    }
   ],
   "source": [
    "# Set the learning rate to be a small number\n",
    "alpha    = 0.05\n",
    "# Initial value for beta.\n",
    "beta_init = 5\n",
    "# Steps for finding minimum beta.\n",
    "steps = 1000\n",
    "# Artifical data.\n",
    "x_data = [1,1,1,1,1,1,1]\n",
    "y_data = [1,4,2,3,6,1,3]\n",
    "y_pred = [2,3,4,6,3,5,2]\n",
    "# Update beta based on dB\n",
    "beta = GD(x_data, y_data, alpha, beta_init, steps)"
   ]
  },
  {
   "cell_type": "code",
   "execution_count": 68,
   "metadata": {},
   "outputs": [],
   "source": [
    "# trainTestSplit\n",
    "# Assume X and Y have same number of samples in the row space\n",
    "# X        = predictors\n",
    "# Y        = response\n",
    "def trainTestSplit(X, Y, subset_size=0.8):\n",
    "    # Get vector of indicies\n",
    "    idx = np.arange(X.shape[0])\n",
    "    # Randomly sample a subset of the indices. I will do 80% of the data.\n",
    "    np.random.shuffle(idx)\n",
    "    trainIdx = idx[:int(len(idx)*subset_size)]\n",
    "    testIdx = idx[int(len(idx)*subset_size):]\n",
    "    # Using these shuffled indicies, get the dataset.\n",
    "    Xtrain = X[trainIdx, :]\n",
    "    Ytrain = Y[trainIdx, :]\n",
    "    Xtest = X[testIdx, :]\n",
    "    Ytest = Y[testIdx, :]\n",
    "    \n",
    "    return Xtrain, Ytrain, Xtest, Ytest"
   ]
  },
  {
   "cell_type": "code",
   "execution_count": 69,
   "metadata": {},
   "outputs": [
    {
     "name": "stdout",
     "output_type": "stream",
     "text": [
      "Shape of Xtrain: (8, 5)\n",
      "Shape of Ytrain: (8, 5)\n",
      "Shape of Xtest: (2, 5)\n",
      "Shape of Ytest: (2, 5)\n"
     ]
    }
   ],
   "source": [
    "X = np.random.rand(10,5)\n",
    "Y = np.random.rand(10,5)\n",
    "res = trainTestSplit(X, Y, subset_size=0.8)\n",
    "print('Shape of Xtrain:', res[0].shape)\n",
    "print('Shape of Ytrain:', res[1].shape)\n",
    "print('Shape of Xtest:', res[2].shape)\n",
    "print('Shape of Ytest:', res[3].shape)"
   ]
  },
  {
   "cell_type": "code",
   "execution_count": 126,
   "metadata": {},
   "outputs": [],
   "source": [
    "# Linear regression.\n",
    "class LinearRegression:\n",
    "    \n",
    "    def __init__(self, X, Y, subset_size=0.8, alpha=0.05, epochs=500):\n",
    "        # Initialize data\n",
    "        self.beta = np.random.rand()\n",
    "        self.intercept = np.random.rand()\n",
    "        self.alpha = alpha\n",
    "        self.epochs = epochs\n",
    "        self.mse = np.zeros(epochs)\n",
    "        self._dataset = self.trainTestSplit(X, Y, subset_size)\n",
    "    \n",
    "    @property\n",
    "    def dataset(self):\n",
    "        return self._dataset\n",
    "        \n",
    "    def trainTestSplit(self, X, Y, subset_size):\n",
    "        # Get vector of indicies\n",
    "        idx = np.arange(X.shape[0])\n",
    "        # Randomly sample a subset of the indices. I will do 80% of the data.\n",
    "        np.random.shuffle(idx)\n",
    "        trainIdx = idx[:int(len(idx)*subset_size)]\n",
    "        testIdx = idx[int(len(idx)*subset_size):]\n",
    "        # Using these shuffled indicies, get the dataset.\n",
    "        Xtrain = X[trainIdx, :]\n",
    "        Ytrain = Y[trainIdx, :]\n",
    "        Xtest = X[testIdx, :]\n",
    "        Ytest = Y[testIdx, :]\n",
    "        # Updata dataset in class property.\n",
    "        return {'Xtrain':Xtrain, 'Ytrain':Ytrain, 'Xtest':Xtest, 'Ytest':Ytest}\n",
    "\n",
    "    def RegressionLearning(self):\n",
    "        \n",
    "        # Linear regression function\n",
    "        def lm(self, X, beta, intercept):\n",
    "            yhat = X * beta + intercept\n",
    "            return yhat\n",
    "        \n",
    "        # Learning with regression\n",
    "        for i in self.epochs:\n",
    "            ypred= lm(self.dataset['Xtrain'], self.beta, self.intercept)\n",
    "            self.mse[i] = np.mean([(y1-y2)**2 for y1, y2 in zip(ypred, self.dataset['Ytrain'])])\n",
    "            dB = self.dataset['Xtrain'] * (ypred - self.dataset['Ytrain'])\n",
    "            # Update...\n",
    "            self.beta = self.beta - self.alpha*dB\n",
    "            self.intercept = self.intercept - self.alpha*dB\n",
    "\n",
    "    def Prediction(self):\n",
    "        # Predict using model\n",
    "        final_ypred = self.dataset['Xtest'] * self.beta + self.intercept\n",
    "        # Evaluate model\n",
    "        r = np.corrcoef(final_ypred, self.dataset['Ytest'])\n",
    "        r2 = r**2\n",
    "        mse = np.mean([(y1-y2)**2 for y1, y2 in zip(final_ypred, self.dataset['Ytest'])])\n",
    "        return {\"r-value\":r, \"r2-value\":r2, \"MSE\":mse}"
   ]
  },
  {
   "cell_type": "code",
   "execution_count": 127,
   "metadata": {},
   "outputs": [],
   "source": [
    "L = LinearRegression(X, Y, subset_size=0.8)\n",
    "res = L.Prediction()"
   ]
  },
  {
   "cell_type": "code",
   "execution_count": 131,
   "metadata": {},
   "outputs": [
    {
     "data": {
      "text/plain": [
       "0.33047270212941393"
      ]
     },
     "execution_count": 131,
     "metadata": {},
     "output_type": "execute_result"
    }
   ],
   "source": [
    "res['MSE']"
   ]
  },
  {
   "cell_type": "code",
   "execution_count": null,
   "metadata": {},
   "outputs": [],
   "source": []
  }
 ],
 "metadata": {
  "kernelspec": {
   "display_name": "Python 3",
   "language": "python",
   "name": "python3"
  },
  "language_info": {
   "codemirror_mode": {
    "name": "ipython",
    "version": 3
   },
   "file_extension": ".py",
   "mimetype": "text/x-python",
   "name": "python",
   "nbconvert_exporter": "python",
   "pygments_lexer": "ipython3",
   "version": "3.8.3"
  }
 },
 "nbformat": 4,
 "nbformat_minor": 4
}
